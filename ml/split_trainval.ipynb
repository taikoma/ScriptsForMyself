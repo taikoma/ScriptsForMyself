{
 "cells": [
  {
   "cell_type": "code",
   "execution_count": 31,
   "metadata": {},
   "outputs": [],
   "source": [
    "from sklearn.model_selection import train_test_split\n",
    "import os"
   ]
  },
  {
   "cell_type": "code",
   "execution_count": 32,
   "metadata": {},
   "outputs": [],
   "source": [
    "filelist=os.listdir(path='./data/VOCdevkit/softtennis/Annotations')\n",
    "a_train, a_test = train_test_split(filelist, test_size=0.2)\n"
   ]
  },
  {
   "cell_type": "code",
   "execution_count": 33,
   "metadata": {},
   "outputs": [],
   "source": [
    "replace_list_train = [s.replace('.xml', '') for s in a_train]\n",
    "replace_list_test = [s.replace('.xml', '') for s in a_test]"
   ]
  },
  {
   "cell_type": "code",
   "execution_count": 34,
   "metadata": {},
   "outputs": [
    {
     "data": {
      "text/plain": [
       "['image_softtennis_3_001',\n",
       " 'image_softtennis_3_004',\n",
       " 'image_softtennis_3_005',\n",
       " 'image_softtennis_3_006',\n",
       " 'image_softtennis_3_007',\n",
       " 'image_softtennis_3_010',\n",
       " 'image_softtennis_3_014',\n",
       " 'image_softtennis_3_015',\n",
       " 'image_softtennis_3_019',\n",
       " 'image_softtennis_3_028',\n",
       " 'image_softtennis_3_030',\n",
       " 'image_softtennis_3_031',\n",
       " 'image_softtennis_3_032',\n",
       " 'image_softtennis_3_033',\n",
       " 'image_softtennis_3_034',\n",
       " 'image_softtennis_3_037',\n",
       " 'image_softtennis_3_038',\n",
       " 'image_softtennis_3_042',\n",
       " 'image_softtennis_3_044',\n",
       " 'image_softtennis_3_047',\n",
       " 'image_softtennis_3_048',\n",
       " 'image_softtennis_3_052',\n",
       " 'image_softtennis_3_053',\n",
       " 'image_softtennis_3_056',\n",
       " 'image_softtennis_3_058',\n",
       " 'image_softtennis_3_063',\n",
       " 'image_softtennis_3_064',\n",
       " 'image_softtennis_3_065',\n",
       " 'image_softtennis_3_069',\n",
       " 'image_softtennis_3_070',\n",
       " 'image_softtennis_3_071',\n",
       " 'image_softtennis_3_074',\n",
       " 'image_softtennis_3_075',\n",
       " 'image_softtennis_3_079',\n",
       " 'image_softtennis_3_080',\n",
       " 'image_softtennis_3_081',\n",
       " 'image_softtennis_3_085',\n",
       " 'image_softtennis_3_086',\n",
       " 'image_softtennis_3_095',\n",
       " 'image_softtennis_3_097',\n",
       " 'image_softtennis_3_098',\n",
       " 'image_softtennis_3_099',\n",
       " 'image_softtennis_3_100',\n",
       " 'image_softtennis_3_105',\n",
       " 'image_softtennis_3_111',\n",
       " 'image_softtennis_3_114',\n",
       " 'image_softtennis_3_115',\n",
       " 'image_softtennis_3_119',\n",
       " 'image_softtennis_3_125',\n",
       " 'image_softtennis_3_129',\n",
       " 'image_softtennis_3_133',\n",
       " 'image_softtennis_3_137',\n",
       " 'image_softtennis_3_138',\n",
       " 'image_softtennis_3_139',\n",
       " 'image_softtennis_3_143',\n",
       " 'image_softtennis_3_144',\n",
       " 'image_softtennis_3_148',\n",
       " 'image_softtennis_3_149',\n",
       " 'image_softtennis_3_160',\n",
       " 'image_softtennis_3_161',\n",
       " 'image_softtennis_3_164',\n",
       " 'image_softtennis_3_167',\n",
       " 'image_softtennis_3_169',\n",
       " 'image_softtennis_3_170',\n",
       " 'image_softtennis_3_174',\n",
       " 'image_softtennis_3_175',\n",
       " 'image_softtennis_3_178',\n",
       " 'image_softtennis_3_179',\n",
       " 'image_softtennis_3_180',\n",
       " 'image_softtennis_3_181',\n",
       " 'image_softtennis_3_185',\n",
       " 'image_softtennis_3_186',\n",
       " 'image_softtennis_3_187',\n",
       " 'image_softtennis_3_190',\n",
       " 'image_softtennis_3_191',\n",
       " 'image_softtennis_3_192',\n",
       " 'image_softtennis_3_194',\n",
       " 'image_softtennis_3_196',\n",
       " 'image_softtennis_3_197',\n",
       " 'image_softtennis_3_201',\n",
       " 'image_softtennis_3_204',\n",
       " 'image_softtennis_3_208',\n",
       " 'image_softtennis_3_210',\n",
       " 'image_softtennis_3_211',\n",
       " 'image_softtennis_3_212',\n",
       " 'image_softtennis_3_216',\n",
       " 'image_softtennis_3_219',\n",
       " 'image_softtennis_3_221',\n",
       " 'image_softtennis_3_222',\n",
       " 'image_softtennis_3_226',\n",
       " 'image_softtennis_3_227',\n",
       " 'image_softtennis_3_228',\n",
       " 'image_softtennis_3_229',\n",
       " 'image_softtennis_3_232',\n",
       " 'image_softtennis_3_233',\n",
       " 'image_softtennis_3_234',\n",
       " 'image_softtennis_3_238',\n",
       " 'image_softtennis_3_240',\n",
       " 'image_softtennis_3_241',\n",
       " 'image_softtennis_3_246',\n",
       " 'image_softtennis_3_253',\n",
       " 'image_softtennis_3_257',\n",
       " 'image_softtennis_3_269',\n",
       " 'image_softtennis_3_271',\n",
       " 'image_softtennis_3_272',\n",
       " 'image_softtennis_3_273',\n",
       " 'image_softtennis_3_276',\n",
       " 'image_softtennis_3_277',\n",
       " 'image_softtennis_3_281',\n",
       " 'image_softtennis_3_285',\n",
       " 'image_softtennis_3_286',\n",
       " 'image_softtennis_3_293',\n",
       " 'image_softtennis_3_294',\n",
       " 'image_softtennis_3_295',\n",
       " 'image_softtennis_3_299',\n",
       " 'image_softtennis_3_303',\n",
       " 'image_softtennis_3_304',\n",
       " 'image_softtennis_3_308',\n",
       " 'image_softtennis_3_309']"
      ]
     },
     "execution_count": 34,
     "metadata": {},
     "output_type": "execute_result"
    }
   ],
   "source": [
    "replace_list"
   ]
  },
  {
   "cell_type": "code",
   "execution_count": 35,
   "metadata": {},
   "outputs": [],
   "source": [
    "list1 = [x+'\\n' for x in replace_list_train]\n",
    "with open(\"train.txt\", 'wt') as f:\n",
    "    f.writelines(list1)"
   ]
  },
  {
   "cell_type": "code",
   "execution_count": 36,
   "metadata": {},
   "outputs": [],
   "source": [
    "list1 = [x+'\\n' for x in replace_list_test]\n",
    "with open(\"val.txt\", 'wt') as f:\n",
    "    f.writelines(list1)"
   ]
  },
  {
   "cell_type": "code",
   "execution_count": null,
   "metadata": {},
   "outputs": [],
   "source": []
  }
 ],
 "metadata": {
  "kernelspec": {
   "display_name": "Python 3",
   "language": "python",
   "name": "python3"
  },
  "language_info": {
   "codemirror_mode": {
    "name": "ipython",
    "version": 3
   },
   "file_extension": ".py",
   "mimetype": "text/x-python",
   "name": "python",
   "nbconvert_exporter": "python",
   "pygments_lexer": "ipython3",
   "version": "3.7.4"
  }
 },
 "nbformat": 4,
 "nbformat_minor": 2
}
